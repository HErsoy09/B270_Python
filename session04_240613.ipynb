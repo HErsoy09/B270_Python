{
 "cells": [
  {
   "cell_type": "code",
   "execution_count": 1,
   "metadata": {},
   "outputs": [
    {
     "name": "stdout",
     "output_type": "stream",
     "text": [
      "Selim!Ali**Gazi\n",
      "Yakup?"
     ]
    }
   ],
   "source": [
    "print(\"Selim\", end=\"!\")\n",
    "print(\"Ali\", \"Gazi\", sep=\"**\")\n",
    "print(\"Yakup\", end=\"?\")"
   ]
  },
  {
   "cell_type": "code",
   "execution_count": 6,
   "metadata": {},
   "outputs": [
    {
     "name": "stdout",
     "output_type": "stream",
     "text": [
      "Doğum yılınız: 1992\n"
     ]
    }
   ],
   "source": [
    "print(f\"\"\"Doğum yılınız: {2024-int(input(\"Yaşınız\"))}\"\"\")"
   ]
  },
  {
   "cell_type": "code",
   "execution_count": 9,
   "metadata": {},
   "outputs": [
    {
     "name": "stdout",
     "output_type": "stream",
     "text": [
      "Girmiş olduğunuz 68kg ile 1.68m kapsamında VKİ değeriniz 24.09\n"
     ]
    }
   ],
   "source": [
    "kilo = int(input(\"Kilonuz (kg)\"))\n",
    "boy = (int(input(\"Boyunuz (cm)\")))/100\n",
    "vki = kilo / (boy ** 2)\n",
    "print(f\"Girmiş olduğunuz {kilo}kg ile {boy}m kapsamında VKİ değeriniz {round(vki, 2)}\")"
   ]
  }
 ],
 "metadata": {
  "kernelspec": {
   "display_name": "Python 3",
   "language": "python",
   "name": "python3"
  },
  "language_info": {
   "codemirror_mode": {
    "name": "ipython",
    "version": 3
   },
   "file_extension": ".py",
   "mimetype": "text/x-python",
   "name": "python",
   "nbconvert_exporter": "python",
   "pygments_lexer": "ipython3",
   "version": "3.12.4"
  }
 },
 "nbformat": 4,
 "nbformat_minor": 2
}
