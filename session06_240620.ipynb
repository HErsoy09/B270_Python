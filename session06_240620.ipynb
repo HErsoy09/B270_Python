{
 "cells": [
  {
   "cell_type": "code",
   "execution_count": 1,
   "metadata": {},
   "outputs": [
    {
     "name": "stdout",
     "output_type": "stream",
     "text": [
      "ferDi\n"
     ]
    }
   ],
   "source": [
    "ferdi = \"ferdi\"\n",
    "print(f\"{ferdi[:3]}{ferdi[3].upper()}{ferdi[-1]}\")"
   ]
  },
  {
   "cell_type": "code",
   "execution_count": 8,
   "metadata": {},
   "outputs": [
    {
     "name": "stdout",
     "output_type": "stream",
     "text": [
      "hakaN\n"
     ]
    }
   ],
   "source": [
    "name = input(\"İsminiz\")\n",
    "name = name.lower()\n",
    "length = len(name)\n",
    "\n",
    "letter = int(input(\"Kaçıncı karakter büyük harf olsun?\"))\n",
    "index = letter - 1\n",
    "\n",
    "if index == 0 and index < length:\n",
    "    print(f\"{name[index].upper()}{name[index + 1 :]}\")\n",
    "elif index > 0 and index < length - 1:\n",
    "    print(f\"{name[:index]}{name[index].upper()}{name[index + 1 :]}\")\n",
    "elif index == length - 1:\n",
    "    print(f\"{name[: index]}{name[index].upper()}\")\n",
    "else:\n",
    "    print(f\"Girmiş olduğunuz {name}, toplam {length} karakter uzunluğundadır. 1 ile {length} aralığında bir sayı giriniz\")"
   ]
  }
 ],
 "metadata": {
  "kernelspec": {
   "display_name": "Python 3",
   "language": "python",
   "name": "python3"
  },
  "language_info": {
   "codemirror_mode": {
    "name": "ipython",
    "version": 3
   },
   "file_extension": ".py",
   "mimetype": "text/x-python",
   "name": "python",
   "nbconvert_exporter": "python",
   "pygments_lexer": "ipython3",
   "version": "3.12.4"
  }
 },
 "nbformat": 4,
 "nbformat_minor": 2
}
